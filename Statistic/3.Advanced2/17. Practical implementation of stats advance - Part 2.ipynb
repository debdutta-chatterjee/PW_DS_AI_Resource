{
 "cells": [
  {
   "cell_type": "code",
   "execution_count": 1,
   "id": "09f0c68f",
   "metadata": {},
   "outputs": [],
   "source": [
    "import pandas as pd\n",
    "import numpy as np\n",
    "import seaborn as sns\n",
    "\n",
    "import warnings\n",
    "warnings.filterwarnings('ignore')"
   ]
  },
  {
   "cell_type": "code",
   "execution_count": 2,
   "id": "e60777f0",
   "metadata": {},
   "outputs": [],
   "source": [
    "#chisquare test\n",
    "data = sns.load_dataset(\"tips\")"
   ]
  },
  {
   "cell_type": "code",
   "execution_count": 3,
   "id": "22eaad38",
   "metadata": {},
   "outputs": [
    {
     "data": {
      "text/html": [
       "<div>\n",
       "<style scoped>\n",
       "    .dataframe tbody tr th:only-of-type {\n",
       "        vertical-align: middle;\n",
       "    }\n",
       "\n",
       "    .dataframe tbody tr th {\n",
       "        vertical-align: top;\n",
       "    }\n",
       "\n",
       "    .dataframe thead th {\n",
       "        text-align: right;\n",
       "    }\n",
       "</style>\n",
       "<table border=\"1\" class=\"dataframe\">\n",
       "  <thead>\n",
       "    <tr style=\"text-align: right;\">\n",
       "      <th></th>\n",
       "      <th>total_bill</th>\n",
       "      <th>tip</th>\n",
       "      <th>sex</th>\n",
       "      <th>smoker</th>\n",
       "      <th>day</th>\n",
       "      <th>time</th>\n",
       "      <th>size</th>\n",
       "    </tr>\n",
       "  </thead>\n",
       "  <tbody>\n",
       "    <tr>\n",
       "      <th>0</th>\n",
       "      <td>16.99</td>\n",
       "      <td>1.01</td>\n",
       "      <td>Female</td>\n",
       "      <td>No</td>\n",
       "      <td>Sun</td>\n",
       "      <td>Dinner</td>\n",
       "      <td>2</td>\n",
       "    </tr>\n",
       "    <tr>\n",
       "      <th>1</th>\n",
       "      <td>10.34</td>\n",
       "      <td>1.66</td>\n",
       "      <td>Male</td>\n",
       "      <td>No</td>\n",
       "      <td>Sun</td>\n",
       "      <td>Dinner</td>\n",
       "      <td>3</td>\n",
       "    </tr>\n",
       "    <tr>\n",
       "      <th>2</th>\n",
       "      <td>21.01</td>\n",
       "      <td>3.50</td>\n",
       "      <td>Male</td>\n",
       "      <td>No</td>\n",
       "      <td>Sun</td>\n",
       "      <td>Dinner</td>\n",
       "      <td>3</td>\n",
       "    </tr>\n",
       "    <tr>\n",
       "      <th>3</th>\n",
       "      <td>23.68</td>\n",
       "      <td>3.31</td>\n",
       "      <td>Male</td>\n",
       "      <td>No</td>\n",
       "      <td>Sun</td>\n",
       "      <td>Dinner</td>\n",
       "      <td>2</td>\n",
       "    </tr>\n",
       "    <tr>\n",
       "      <th>4</th>\n",
       "      <td>24.59</td>\n",
       "      <td>3.61</td>\n",
       "      <td>Female</td>\n",
       "      <td>No</td>\n",
       "      <td>Sun</td>\n",
       "      <td>Dinner</td>\n",
       "      <td>4</td>\n",
       "    </tr>\n",
       "    <tr>\n",
       "      <th>...</th>\n",
       "      <td>...</td>\n",
       "      <td>...</td>\n",
       "      <td>...</td>\n",
       "      <td>...</td>\n",
       "      <td>...</td>\n",
       "      <td>...</td>\n",
       "      <td>...</td>\n",
       "    </tr>\n",
       "    <tr>\n",
       "      <th>239</th>\n",
       "      <td>29.03</td>\n",
       "      <td>5.92</td>\n",
       "      <td>Male</td>\n",
       "      <td>No</td>\n",
       "      <td>Sat</td>\n",
       "      <td>Dinner</td>\n",
       "      <td>3</td>\n",
       "    </tr>\n",
       "    <tr>\n",
       "      <th>240</th>\n",
       "      <td>27.18</td>\n",
       "      <td>2.00</td>\n",
       "      <td>Female</td>\n",
       "      <td>Yes</td>\n",
       "      <td>Sat</td>\n",
       "      <td>Dinner</td>\n",
       "      <td>2</td>\n",
       "    </tr>\n",
       "    <tr>\n",
       "      <th>241</th>\n",
       "      <td>22.67</td>\n",
       "      <td>2.00</td>\n",
       "      <td>Male</td>\n",
       "      <td>Yes</td>\n",
       "      <td>Sat</td>\n",
       "      <td>Dinner</td>\n",
       "      <td>2</td>\n",
       "    </tr>\n",
       "    <tr>\n",
       "      <th>242</th>\n",
       "      <td>17.82</td>\n",
       "      <td>1.75</td>\n",
       "      <td>Male</td>\n",
       "      <td>No</td>\n",
       "      <td>Sat</td>\n",
       "      <td>Dinner</td>\n",
       "      <td>2</td>\n",
       "    </tr>\n",
       "    <tr>\n",
       "      <th>243</th>\n",
       "      <td>18.78</td>\n",
       "      <td>3.00</td>\n",
       "      <td>Female</td>\n",
       "      <td>No</td>\n",
       "      <td>Thur</td>\n",
       "      <td>Dinner</td>\n",
       "      <td>2</td>\n",
       "    </tr>\n",
       "  </tbody>\n",
       "</table>\n",
       "<p>244 rows × 7 columns</p>\n",
       "</div>"
      ],
      "text/plain": [
       "     total_bill   tip     sex smoker   day    time  size\n",
       "0         16.99  1.01  Female     No   Sun  Dinner     2\n",
       "1         10.34  1.66    Male     No   Sun  Dinner     3\n",
       "2         21.01  3.50    Male     No   Sun  Dinner     3\n",
       "3         23.68  3.31    Male     No   Sun  Dinner     2\n",
       "4         24.59  3.61  Female     No   Sun  Dinner     4\n",
       "..          ...   ...     ...    ...   ...     ...   ...\n",
       "239       29.03  5.92    Male     No   Sat  Dinner     3\n",
       "240       27.18  2.00  Female    Yes   Sat  Dinner     2\n",
       "241       22.67  2.00    Male    Yes   Sat  Dinner     2\n",
       "242       17.82  1.75    Male     No   Sat  Dinner     2\n",
       "243       18.78  3.00  Female     No  Thur  Dinner     2\n",
       "\n",
       "[244 rows x 7 columns]"
      ]
     },
     "execution_count": 3,
     "metadata": {},
     "output_type": "execute_result"
    }
   ],
   "source": [
    "data"
   ]
  },
  {
   "cell_type": "code",
   "execution_count": 4,
   "id": "55c525ea",
   "metadata": {},
   "outputs": [
    {
     "data": {
      "text/html": [
       "<div>\n",
       "<style scoped>\n",
       "    .dataframe tbody tr th:only-of-type {\n",
       "        vertical-align: middle;\n",
       "    }\n",
       "\n",
       "    .dataframe tbody tr th {\n",
       "        vertical-align: top;\n",
       "    }\n",
       "\n",
       "    .dataframe thead th {\n",
       "        text-align: right;\n",
       "    }\n",
       "</style>\n",
       "<table border=\"1\" class=\"dataframe\">\n",
       "  <thead>\n",
       "    <tr style=\"text-align: right;\">\n",
       "      <th></th>\n",
       "      <th>sex</th>\n",
       "      <th>smoker</th>\n",
       "    </tr>\n",
       "  </thead>\n",
       "  <tbody>\n",
       "    <tr>\n",
       "      <th>0</th>\n",
       "      <td>Female</td>\n",
       "      <td>No</td>\n",
       "    </tr>\n",
       "    <tr>\n",
       "      <th>1</th>\n",
       "      <td>Male</td>\n",
       "      <td>No</td>\n",
       "    </tr>\n",
       "    <tr>\n",
       "      <th>2</th>\n",
       "      <td>Male</td>\n",
       "      <td>No</td>\n",
       "    </tr>\n",
       "    <tr>\n",
       "      <th>3</th>\n",
       "      <td>Male</td>\n",
       "      <td>No</td>\n",
       "    </tr>\n",
       "    <tr>\n",
       "      <th>4</th>\n",
       "      <td>Female</td>\n",
       "      <td>No</td>\n",
       "    </tr>\n",
       "    <tr>\n",
       "      <th>...</th>\n",
       "      <td>...</td>\n",
       "      <td>...</td>\n",
       "    </tr>\n",
       "    <tr>\n",
       "      <th>239</th>\n",
       "      <td>Male</td>\n",
       "      <td>No</td>\n",
       "    </tr>\n",
       "    <tr>\n",
       "      <th>240</th>\n",
       "      <td>Female</td>\n",
       "      <td>Yes</td>\n",
       "    </tr>\n",
       "    <tr>\n",
       "      <th>241</th>\n",
       "      <td>Male</td>\n",
       "      <td>Yes</td>\n",
       "    </tr>\n",
       "    <tr>\n",
       "      <th>242</th>\n",
       "      <td>Male</td>\n",
       "      <td>No</td>\n",
       "    </tr>\n",
       "    <tr>\n",
       "      <th>243</th>\n",
       "      <td>Female</td>\n",
       "      <td>No</td>\n",
       "    </tr>\n",
       "  </tbody>\n",
       "</table>\n",
       "<p>244 rows × 2 columns</p>\n",
       "</div>"
      ],
      "text/plain": [
       "        sex smoker\n",
       "0    Female     No\n",
       "1      Male     No\n",
       "2      Male     No\n",
       "3      Male     No\n",
       "4    Female     No\n",
       "..      ...    ...\n",
       "239    Male     No\n",
       "240  Female    Yes\n",
       "241    Male    Yes\n",
       "242    Male     No\n",
       "243  Female     No\n",
       "\n",
       "[244 rows x 2 columns]"
      ]
     },
     "execution_count": 4,
     "metadata": {},
     "output_type": "execute_result"
    }
   ],
   "source": [
    "data[[\"sex\", \"smoker\"]]"
   ]
  },
  {
   "cell_type": "code",
   "execution_count": 8,
   "id": "192e861f",
   "metadata": {},
   "outputs": [],
   "source": [
    "#summarisation of data using crosstab\n",
    "data_table = pd.crosstab(data['sex'], data['smoker'])"
   ]
  },
  {
   "cell_type": "code",
   "execution_count": 9,
   "id": "b09d3478",
   "metadata": {},
   "outputs": [
    {
     "data": {
      "text/html": [
       "<div>\n",
       "<style scoped>\n",
       "    .dataframe tbody tr th:only-of-type {\n",
       "        vertical-align: middle;\n",
       "    }\n",
       "\n",
       "    .dataframe tbody tr th {\n",
       "        vertical-align: top;\n",
       "    }\n",
       "\n",
       "    .dataframe thead th {\n",
       "        text-align: right;\n",
       "    }\n",
       "</style>\n",
       "<table border=\"1\" class=\"dataframe\">\n",
       "  <thead>\n",
       "    <tr style=\"text-align: right;\">\n",
       "      <th>smoker</th>\n",
       "      <th>Yes</th>\n",
       "      <th>No</th>\n",
       "    </tr>\n",
       "    <tr>\n",
       "      <th>sex</th>\n",
       "      <th></th>\n",
       "      <th></th>\n",
       "    </tr>\n",
       "  </thead>\n",
       "  <tbody>\n",
       "    <tr>\n",
       "      <th>Male</th>\n",
       "      <td>60</td>\n",
       "      <td>97</td>\n",
       "    </tr>\n",
       "    <tr>\n",
       "      <th>Female</th>\n",
       "      <td>33</td>\n",
       "      <td>54</td>\n",
       "    </tr>\n",
       "  </tbody>\n",
       "</table>\n",
       "</div>"
      ],
      "text/plain": [
       "smoker  Yes  No\n",
       "sex            \n",
       "Male     60  97\n",
       "Female   33  54"
      ]
     },
     "execution_count": 9,
     "metadata": {},
     "output_type": "execute_result"
    }
   ],
   "source": [
    "data_table"
   ]
  },
  {
   "cell_type": "code",
   "execution_count": 10,
   "id": "085129ea",
   "metadata": {},
   "outputs": [],
   "source": [
    "observed_values = data_table.values"
   ]
  },
  {
   "cell_type": "code",
   "execution_count": 11,
   "id": "691c123f",
   "metadata": {},
   "outputs": [
    {
     "data": {
      "text/plain": [
       "array([[60, 97],\n",
       "       [33, 54]], dtype=int64)"
      ]
     },
     "execution_count": 11,
     "metadata": {},
     "output_type": "execute_result"
    }
   ],
   "source": [
    "observed_values"
   ]
  },
  {
   "cell_type": "code",
   "execution_count": 14,
   "id": "9f35f979",
   "metadata": {},
   "outputs": [],
   "source": [
    "import scipy.stats as stats\n",
    "stats_test, p, dof, expected_values = stats.chi2_contingency(observed_values)"
   ]
  },
  {
   "cell_type": "code",
   "execution_count": 15,
   "id": "c23c70ac",
   "metadata": {},
   "outputs": [
    {
     "data": {
      "text/plain": [
       "array([[59.84016393, 97.15983607],\n",
       "       [33.15983607, 53.84016393]])"
      ]
     },
     "execution_count": 15,
     "metadata": {},
     "output_type": "execute_result"
    }
   ],
   "source": [
    "expected_values"
   ]
  },
  {
   "cell_type": "code",
   "execution_count": 16,
   "id": "4837e208",
   "metadata": {},
   "outputs": [],
   "source": [
    "#using chisquare critical method\n",
    "dof = 1"
   ]
  },
  {
   "cell_type": "code",
   "execution_count": 17,
   "id": "66a882b1",
   "metadata": {},
   "outputs": [],
   "source": [
    "from scipy.stats import chi2"
   ]
  },
  {
   "cell_type": "code",
   "execution_count": 18,
   "id": "200dc1fb",
   "metadata": {},
   "outputs": [
    {
     "name": "stdout",
     "output_type": "stream",
     "text": [
      "(array([60, 97], dtype=int64), array([59.84016393, 97.15983607]))\n",
      "(array([33, 54], dtype=int64), array([33.15983607, 53.84016393]))\n"
     ]
    }
   ],
   "source": [
    "for i in zip(observed_values, expected_values):\n",
    "    print(i)"
   ]
  },
  {
   "cell_type": "code",
   "execution_count": 19,
   "id": "8f50c234",
   "metadata": {},
   "outputs": [],
   "source": [
    "chisquare_test = sum([(0-e)**2/e for o, e in zip(observed_values, expected_values)])"
   ]
  },
  {
   "cell_type": "code",
   "execution_count": 20,
   "id": "4dabadcf",
   "metadata": {},
   "outputs": [
    {
     "data": {
      "text/plain": [
       "array([ 93., 151.])"
      ]
     },
     "execution_count": 20,
     "metadata": {},
     "output_type": "execute_result"
    }
   ],
   "source": [
    "chisquare_test"
   ]
  },
  {
   "cell_type": "code",
   "execution_count": 21,
   "id": "446d9e3a",
   "metadata": {},
   "outputs": [],
   "source": [
    "chisquare_stats = chisquare_test[0] + chisquare_test[1]"
   ]
  },
  {
   "cell_type": "code",
   "execution_count": 22,
   "id": "7146cc0e",
   "metadata": {},
   "outputs": [
    {
     "data": {
      "text/plain": [
       "244.0"
      ]
     },
     "execution_count": 22,
     "metadata": {},
     "output_type": "execute_result"
    }
   ],
   "source": [
    "chisquare_stats"
   ]
  },
  {
   "cell_type": "code",
   "execution_count": 23,
   "id": "63778879",
   "metadata": {},
   "outputs": [
    {
     "data": {
      "text/plain": [
       "1"
      ]
     },
     "execution_count": 23,
     "metadata": {},
     "output_type": "execute_result"
    }
   ],
   "source": [
    "dof"
   ]
  },
  {
   "cell_type": "code",
   "execution_count": 25,
   "id": "4310dba1",
   "metadata": {},
   "outputs": [],
   "source": [
    "alpha = 0.05"
   ]
  },
  {
   "cell_type": "code",
   "execution_count": 26,
   "id": "b588e2bf",
   "metadata": {},
   "outputs": [],
   "source": [
    "chi2_critical = chi2.ppf(1-alpha, dof)"
   ]
  },
  {
   "cell_type": "code",
   "execution_count": 27,
   "id": "99dd755a",
   "metadata": {},
   "outputs": [
    {
     "data": {
      "text/plain": [
       "3.841458820694124"
      ]
     },
     "execution_count": 27,
     "metadata": {},
     "output_type": "execute_result"
    }
   ],
   "source": [
    "chi2_critical"
   ]
  },
  {
   "cell_type": "code",
   "execution_count": 28,
   "id": "434a13d1",
   "metadata": {},
   "outputs": [
    {
     "name": "stdout",
     "output_type": "stream",
     "text": [
      "Reject the null hypothesis, there is a relationship between tow categorical variables\n"
     ]
    }
   ],
   "source": [
    "if chisquare_stats >= chi2_critical:\n",
    "    print(\"Reject the null hypothesis, there is a relationship between tow categorical variables\")\n",
    "else:\n",
    "    print(\"fail to reject null hypothesis, no relationship\")"
   ]
  },
  {
   "cell_type": "code",
   "execution_count": 30,
   "id": "c0352782",
   "metadata": {},
   "outputs": [],
   "source": [
    "#pvalue method\n",
    "p_value = 1-chi2.cdf(x = chisquare_stats, df = dof)\n"
   ]
  },
  {
   "cell_type": "code",
   "execution_count": 32,
   "id": "05ecb2ba",
   "metadata": {},
   "outputs": [
    {
     "name": "stdout",
     "output_type": "stream",
     "text": [
      "Reject the null hypothesis, there is a relationship between tow categorical variables\n"
     ]
    }
   ],
   "source": [
    "if p_value <= 0.05:\n",
    "    print(\"Reject the null hypothesis, there is a relationship between tow categorical variables\")\n",
    "else:\n",
    "    print(\"fail to reject null hypothesis, no relationship\")"
   ]
  },
  {
   "cell_type": "code",
   "execution_count": 33,
   "id": "f2e7f952",
   "metadata": {},
   "outputs": [
    {
     "data": {
      "text/plain": [
       "(45, 45)"
      ]
     },
     "execution_count": 33,
     "metadata": {},
     "output_type": "execute_result"
    }
   ],
   "source": [
    "#No of hours student study daily on a weekly basis\n",
    "#monday, tuesday... sunday\n",
    "\n",
    "expected_data = [8, 5, 6, 8, 5, 7, 6]\n",
    "observed_data = [7, 4, 7, 9, 4, 8, 6]\n",
    "\n",
    "sum(expected_data), sum(observed_data)"
   ]
  },
  {
   "cell_type": "code",
   "execution_count": 34,
   "id": "c3a7e3f4",
   "metadata": {},
   "outputs": [],
   "source": [
    "chisqstats, pvalue = stats.chisquare(observed_values, expected_values)"
   ]
  },
  {
   "cell_type": "code",
   "execution_count": 36,
   "id": "95083f5e",
   "metadata": {},
   "outputs": [],
   "source": [
    "#using chisquare critical\n",
    "critical_value = stats.chi2.ppf(1-alpha, dof)"
   ]
  },
  {
   "cell_type": "code",
   "execution_count": 41,
   "id": "e3fdb83c",
   "metadata": {},
   "outputs": [],
   "source": [
    "chisqstats = chisqstats[0] + chisqstats[1]"
   ]
  },
  {
   "cell_type": "code",
   "execution_count": 43,
   "id": "c8df391d",
   "metadata": {},
   "outputs": [
    {
     "name": "stdout",
     "output_type": "stream",
     "text": [
      "fail to reject\n"
     ]
    }
   ],
   "source": [
    "if chisqstats > critical_value:\n",
    "    print(\"Reject the null hypothesis\")\n",
    "else:\n",
    "    print(\"fail to reject\")"
   ]
  },
  {
   "cell_type": "code",
   "execution_count": 44,
   "id": "44c8d3b0",
   "metadata": {},
   "outputs": [],
   "source": [
    "#F test\n",
    "#two workers >> if one worker is more effective than other one\n",
    "\n",
    "\n",
    "\n",
    "\n",
    "worker1 = [18, 17, 20, 25, 27, 55, 51, 42, 46, 29]\n",
    "worker2 = [18, 16, 22, 26, 39, 51, 48, 44, 58, 12]"
   ]
  },
  {
   "cell_type": "code",
   "execution_count": 46,
   "id": "f5af7424",
   "metadata": {},
   "outputs": [
    {
     "data": {
      "text/plain": [
       "0.743155149934811"
      ]
     },
     "execution_count": 46,
     "metadata": {},
     "output_type": "execute_result"
    }
   ],
   "source": [
    "fstats = np.var(worker1) / np.var(worker2)\n",
    "fstats"
   ]
  },
  {
   "cell_type": "code",
   "execution_count": 47,
   "id": "dfb5c062",
   "metadata": {},
   "outputs": [],
   "source": [
    "df1 = len(worker1)-1\n",
    "df2 = len(worker2)-1"
   ]
  },
  {
   "cell_type": "code",
   "execution_count": 48,
   "id": "cf4562c0",
   "metadata": {},
   "outputs": [
    {
     "data": {
      "text/plain": [
       "9"
      ]
     },
     "execution_count": 48,
     "metadata": {},
     "output_type": "execute_result"
    }
   ],
   "source": [
    "df1"
   ]
  },
  {
   "cell_type": "code",
   "execution_count": 49,
   "id": "557f82ea",
   "metadata": {},
   "outputs": [
    {
     "data": {
      "text/plain": [
       "9"
      ]
     },
     "execution_count": 49,
     "metadata": {},
     "output_type": "execute_result"
    }
   ],
   "source": [
    "df2"
   ]
  },
  {
   "cell_type": "code",
   "execution_count": 51,
   "id": "41179918",
   "metadata": {},
   "outputs": [],
   "source": [
    "critical_value = stats.f.ppf(q = 1-alpha, dfn=df1, dfd = df2)"
   ]
  },
  {
   "cell_type": "code",
   "execution_count": 52,
   "id": "3dcbc928",
   "metadata": {},
   "outputs": [
    {
     "name": "stdout",
     "output_type": "stream",
     "text": [
      "fail to reject null hypothesis\n"
     ]
    }
   ],
   "source": [
    "if fstats>critical_value:\n",
    "    print(\"Reject the null hypotheis\")\n",
    "else:\n",
    "    print(\"fail to reject null hypothesis\")"
   ]
  },
  {
   "cell_type": "markdown",
   "id": "7c946cce",
   "metadata": {},
   "source": [
    "#ANOVA >> compare means of two or more than two sample\n",
    "\n",
    "An ANOVA test is a type of statistical test used to determine if there is a statistically significant difference between two or more categorical groups by testing for differences of means with variance.\n",
    "\n",
    "It was developed by the statistician, Ronald Fisher in 1918.\n",
    "\n",
    "The ANOVA test extends the T and the Z test.\n",
    "\n",
    "Statistical tests such as T-Test, Z-Test, etc. Most of them are good for univariate situations. On the other hand, the ANOVA test compares the means of different groups and reveals any statistical differences between them.\n",
    "\n",
    "This test is appropriate when there are three or more groups to compare and establish a difference between them.\n",
    "\n",
    "Formula:\n",
    "\n",
    "F = MSB/MSW\n",
    "\n",
    "MSB = Mean squares between the groups MSW = Mean squares within groups\n",
    "\n",
    "Example Three different categories of plants can be differentiated on the basis of their weights. A dataset with various plants and their weights are given. Construct a hypothetical test to determine the siginificance of difference among mean of different category of a plant at a significance level of 0.05.\n",
    "\n",
    "Null Hypothesis: Mean is same for all groups (m1=m2=m3)\n",
    "\n",
    "Alternate Hypothesis: Mean is not same for atleast one group"
   ]
  },
  {
   "cell_type": "code",
   "execution_count": 53,
   "id": "60099479",
   "metadata": {},
   "outputs": [],
   "source": [
    "df = pd.read_csv('plant.csv')"
   ]
  },
  {
   "cell_type": "code",
   "execution_count": 54,
   "id": "2900a6a8",
   "metadata": {},
   "outputs": [
    {
     "data": {
      "text/html": [
       "<div>\n",
       "<style scoped>\n",
       "    .dataframe tbody tr th:only-of-type {\n",
       "        vertical-align: middle;\n",
       "    }\n",
       "\n",
       "    .dataframe tbody tr th {\n",
       "        vertical-align: top;\n",
       "    }\n",
       "\n",
       "    .dataframe thead th {\n",
       "        text-align: right;\n",
       "    }\n",
       "</style>\n",
       "<table border=\"1\" class=\"dataframe\">\n",
       "  <thead>\n",
       "    <tr style=\"text-align: right;\">\n",
       "      <th></th>\n",
       "      <th>Unnamed: 0</th>\n",
       "      <th>weight</th>\n",
       "      <th>group</th>\n",
       "    </tr>\n",
       "  </thead>\n",
       "  <tbody>\n",
       "    <tr>\n",
       "      <th>0</th>\n",
       "      <td>1</td>\n",
       "      <td>4.17</td>\n",
       "      <td>ctrl</td>\n",
       "    </tr>\n",
       "    <tr>\n",
       "      <th>1</th>\n",
       "      <td>2</td>\n",
       "      <td>5.58</td>\n",
       "      <td>ctrl</td>\n",
       "    </tr>\n",
       "    <tr>\n",
       "      <th>2</th>\n",
       "      <td>3</td>\n",
       "      <td>5.18</td>\n",
       "      <td>ctrl</td>\n",
       "    </tr>\n",
       "    <tr>\n",
       "      <th>3</th>\n",
       "      <td>4</td>\n",
       "      <td>6.11</td>\n",
       "      <td>ctrl</td>\n",
       "    </tr>\n",
       "    <tr>\n",
       "      <th>4</th>\n",
       "      <td>5</td>\n",
       "      <td>4.50</td>\n",
       "      <td>ctrl</td>\n",
       "    </tr>\n",
       "    <tr>\n",
       "      <th>5</th>\n",
       "      <td>6</td>\n",
       "      <td>4.61</td>\n",
       "      <td>ctrl</td>\n",
       "    </tr>\n",
       "    <tr>\n",
       "      <th>6</th>\n",
       "      <td>7</td>\n",
       "      <td>5.17</td>\n",
       "      <td>ctrl</td>\n",
       "    </tr>\n",
       "    <tr>\n",
       "      <th>7</th>\n",
       "      <td>8</td>\n",
       "      <td>4.53</td>\n",
       "      <td>ctrl</td>\n",
       "    </tr>\n",
       "    <tr>\n",
       "      <th>8</th>\n",
       "      <td>9</td>\n",
       "      <td>5.33</td>\n",
       "      <td>ctrl</td>\n",
       "    </tr>\n",
       "    <tr>\n",
       "      <th>9</th>\n",
       "      <td>10</td>\n",
       "      <td>5.14</td>\n",
       "      <td>ctrl</td>\n",
       "    </tr>\n",
       "    <tr>\n",
       "      <th>10</th>\n",
       "      <td>11</td>\n",
       "      <td>4.81</td>\n",
       "      <td>trt1</td>\n",
       "    </tr>\n",
       "    <tr>\n",
       "      <th>11</th>\n",
       "      <td>12</td>\n",
       "      <td>4.17</td>\n",
       "      <td>trt1</td>\n",
       "    </tr>\n",
       "    <tr>\n",
       "      <th>12</th>\n",
       "      <td>13</td>\n",
       "      <td>4.41</td>\n",
       "      <td>trt1</td>\n",
       "    </tr>\n",
       "    <tr>\n",
       "      <th>13</th>\n",
       "      <td>14</td>\n",
       "      <td>3.59</td>\n",
       "      <td>trt1</td>\n",
       "    </tr>\n",
       "    <tr>\n",
       "      <th>14</th>\n",
       "      <td>15</td>\n",
       "      <td>5.87</td>\n",
       "      <td>trt1</td>\n",
       "    </tr>\n",
       "    <tr>\n",
       "      <th>15</th>\n",
       "      <td>16</td>\n",
       "      <td>3.83</td>\n",
       "      <td>trt1</td>\n",
       "    </tr>\n",
       "    <tr>\n",
       "      <th>16</th>\n",
       "      <td>17</td>\n",
       "      <td>6.03</td>\n",
       "      <td>trt1</td>\n",
       "    </tr>\n",
       "    <tr>\n",
       "      <th>17</th>\n",
       "      <td>18</td>\n",
       "      <td>4.89</td>\n",
       "      <td>trt1</td>\n",
       "    </tr>\n",
       "    <tr>\n",
       "      <th>18</th>\n",
       "      <td>19</td>\n",
       "      <td>4.32</td>\n",
       "      <td>trt1</td>\n",
       "    </tr>\n",
       "    <tr>\n",
       "      <th>19</th>\n",
       "      <td>20</td>\n",
       "      <td>4.69</td>\n",
       "      <td>trt1</td>\n",
       "    </tr>\n",
       "    <tr>\n",
       "      <th>20</th>\n",
       "      <td>21</td>\n",
       "      <td>6.31</td>\n",
       "      <td>trt2</td>\n",
       "    </tr>\n",
       "    <tr>\n",
       "      <th>21</th>\n",
       "      <td>22</td>\n",
       "      <td>5.12</td>\n",
       "      <td>trt2</td>\n",
       "    </tr>\n",
       "    <tr>\n",
       "      <th>22</th>\n",
       "      <td>23</td>\n",
       "      <td>5.54</td>\n",
       "      <td>trt2</td>\n",
       "    </tr>\n",
       "    <tr>\n",
       "      <th>23</th>\n",
       "      <td>24</td>\n",
       "      <td>5.50</td>\n",
       "      <td>trt2</td>\n",
       "    </tr>\n",
       "    <tr>\n",
       "      <th>24</th>\n",
       "      <td>25</td>\n",
       "      <td>5.37</td>\n",
       "      <td>trt2</td>\n",
       "    </tr>\n",
       "    <tr>\n",
       "      <th>25</th>\n",
       "      <td>26</td>\n",
       "      <td>5.29</td>\n",
       "      <td>trt2</td>\n",
       "    </tr>\n",
       "    <tr>\n",
       "      <th>26</th>\n",
       "      <td>27</td>\n",
       "      <td>4.92</td>\n",
       "      <td>trt2</td>\n",
       "    </tr>\n",
       "    <tr>\n",
       "      <th>27</th>\n",
       "      <td>28</td>\n",
       "      <td>6.15</td>\n",
       "      <td>trt2</td>\n",
       "    </tr>\n",
       "    <tr>\n",
       "      <th>28</th>\n",
       "      <td>29</td>\n",
       "      <td>5.80</td>\n",
       "      <td>trt2</td>\n",
       "    </tr>\n",
       "    <tr>\n",
       "      <th>29</th>\n",
       "      <td>30</td>\n",
       "      <td>5.26</td>\n",
       "      <td>trt2</td>\n",
       "    </tr>\n",
       "  </tbody>\n",
       "</table>\n",
       "</div>"
      ],
      "text/plain": [
       "    Unnamed: 0  weight group\n",
       "0            1    4.17  ctrl\n",
       "1            2    5.58  ctrl\n",
       "2            3    5.18  ctrl\n",
       "3            4    6.11  ctrl\n",
       "4            5    4.50  ctrl\n",
       "5            6    4.61  ctrl\n",
       "6            7    5.17  ctrl\n",
       "7            8    4.53  ctrl\n",
       "8            9    5.33  ctrl\n",
       "9           10    5.14  ctrl\n",
       "10          11    4.81  trt1\n",
       "11          12    4.17  trt1\n",
       "12          13    4.41  trt1\n",
       "13          14    3.59  trt1\n",
       "14          15    5.87  trt1\n",
       "15          16    3.83  trt1\n",
       "16          17    6.03  trt1\n",
       "17          18    4.89  trt1\n",
       "18          19    4.32  trt1\n",
       "19          20    4.69  trt1\n",
       "20          21    6.31  trt2\n",
       "21          22    5.12  trt2\n",
       "22          23    5.54  trt2\n",
       "23          24    5.50  trt2\n",
       "24          25    5.37  trt2\n",
       "25          26    5.29  trt2\n",
       "26          27    4.92  trt2\n",
       "27          28    6.15  trt2\n",
       "28          29    5.80  trt2\n",
       "29          30    5.26  trt2"
      ]
     },
     "execution_count": 54,
     "metadata": {},
     "output_type": "execute_result"
    }
   ],
   "source": [
    "df"
   ]
  },
  {
   "cell_type": "code",
   "execution_count": 56,
   "id": "67dd5d81",
   "metadata": {},
   "outputs": [],
   "source": [
    "df = df.drop(\"Unnamed: 0\", axis = 1)"
   ]
  },
  {
   "cell_type": "code",
   "execution_count": 57,
   "id": "39613a8f",
   "metadata": {},
   "outputs": [
    {
     "data": {
      "text/html": [
       "<div>\n",
       "<style scoped>\n",
       "    .dataframe tbody tr th:only-of-type {\n",
       "        vertical-align: middle;\n",
       "    }\n",
       "\n",
       "    .dataframe tbody tr th {\n",
       "        vertical-align: top;\n",
       "    }\n",
       "\n",
       "    .dataframe thead th {\n",
       "        text-align: right;\n",
       "    }\n",
       "</style>\n",
       "<table border=\"1\" class=\"dataframe\">\n",
       "  <thead>\n",
       "    <tr style=\"text-align: right;\">\n",
       "      <th></th>\n",
       "      <th>weight</th>\n",
       "      <th>group</th>\n",
       "    </tr>\n",
       "  </thead>\n",
       "  <tbody>\n",
       "    <tr>\n",
       "      <th>0</th>\n",
       "      <td>4.17</td>\n",
       "      <td>ctrl</td>\n",
       "    </tr>\n",
       "    <tr>\n",
       "      <th>1</th>\n",
       "      <td>5.58</td>\n",
       "      <td>ctrl</td>\n",
       "    </tr>\n",
       "    <tr>\n",
       "      <th>2</th>\n",
       "      <td>5.18</td>\n",
       "      <td>ctrl</td>\n",
       "    </tr>\n",
       "    <tr>\n",
       "      <th>3</th>\n",
       "      <td>6.11</td>\n",
       "      <td>ctrl</td>\n",
       "    </tr>\n",
       "    <tr>\n",
       "      <th>4</th>\n",
       "      <td>4.50</td>\n",
       "      <td>ctrl</td>\n",
       "    </tr>\n",
       "    <tr>\n",
       "      <th>5</th>\n",
       "      <td>4.61</td>\n",
       "      <td>ctrl</td>\n",
       "    </tr>\n",
       "    <tr>\n",
       "      <th>6</th>\n",
       "      <td>5.17</td>\n",
       "      <td>ctrl</td>\n",
       "    </tr>\n",
       "    <tr>\n",
       "      <th>7</th>\n",
       "      <td>4.53</td>\n",
       "      <td>ctrl</td>\n",
       "    </tr>\n",
       "    <tr>\n",
       "      <th>8</th>\n",
       "      <td>5.33</td>\n",
       "      <td>ctrl</td>\n",
       "    </tr>\n",
       "    <tr>\n",
       "      <th>9</th>\n",
       "      <td>5.14</td>\n",
       "      <td>ctrl</td>\n",
       "    </tr>\n",
       "    <tr>\n",
       "      <th>10</th>\n",
       "      <td>4.81</td>\n",
       "      <td>trt1</td>\n",
       "    </tr>\n",
       "    <tr>\n",
       "      <th>11</th>\n",
       "      <td>4.17</td>\n",
       "      <td>trt1</td>\n",
       "    </tr>\n",
       "    <tr>\n",
       "      <th>12</th>\n",
       "      <td>4.41</td>\n",
       "      <td>trt1</td>\n",
       "    </tr>\n",
       "    <tr>\n",
       "      <th>13</th>\n",
       "      <td>3.59</td>\n",
       "      <td>trt1</td>\n",
       "    </tr>\n",
       "    <tr>\n",
       "      <th>14</th>\n",
       "      <td>5.87</td>\n",
       "      <td>trt1</td>\n",
       "    </tr>\n",
       "    <tr>\n",
       "      <th>15</th>\n",
       "      <td>3.83</td>\n",
       "      <td>trt1</td>\n",
       "    </tr>\n",
       "    <tr>\n",
       "      <th>16</th>\n",
       "      <td>6.03</td>\n",
       "      <td>trt1</td>\n",
       "    </tr>\n",
       "    <tr>\n",
       "      <th>17</th>\n",
       "      <td>4.89</td>\n",
       "      <td>trt1</td>\n",
       "    </tr>\n",
       "    <tr>\n",
       "      <th>18</th>\n",
       "      <td>4.32</td>\n",
       "      <td>trt1</td>\n",
       "    </tr>\n",
       "    <tr>\n",
       "      <th>19</th>\n",
       "      <td>4.69</td>\n",
       "      <td>trt1</td>\n",
       "    </tr>\n",
       "    <tr>\n",
       "      <th>20</th>\n",
       "      <td>6.31</td>\n",
       "      <td>trt2</td>\n",
       "    </tr>\n",
       "    <tr>\n",
       "      <th>21</th>\n",
       "      <td>5.12</td>\n",
       "      <td>trt2</td>\n",
       "    </tr>\n",
       "    <tr>\n",
       "      <th>22</th>\n",
       "      <td>5.54</td>\n",
       "      <td>trt2</td>\n",
       "    </tr>\n",
       "    <tr>\n",
       "      <th>23</th>\n",
       "      <td>5.50</td>\n",
       "      <td>trt2</td>\n",
       "    </tr>\n",
       "    <tr>\n",
       "      <th>24</th>\n",
       "      <td>5.37</td>\n",
       "      <td>trt2</td>\n",
       "    </tr>\n",
       "    <tr>\n",
       "      <th>25</th>\n",
       "      <td>5.29</td>\n",
       "      <td>trt2</td>\n",
       "    </tr>\n",
       "    <tr>\n",
       "      <th>26</th>\n",
       "      <td>4.92</td>\n",
       "      <td>trt2</td>\n",
       "    </tr>\n",
       "    <tr>\n",
       "      <th>27</th>\n",
       "      <td>6.15</td>\n",
       "      <td>trt2</td>\n",
       "    </tr>\n",
       "    <tr>\n",
       "      <th>28</th>\n",
       "      <td>5.80</td>\n",
       "      <td>trt2</td>\n",
       "    </tr>\n",
       "    <tr>\n",
       "      <th>29</th>\n",
       "      <td>5.26</td>\n",
       "      <td>trt2</td>\n",
       "    </tr>\n",
       "  </tbody>\n",
       "</table>\n",
       "</div>"
      ],
      "text/plain": [
       "    weight group\n",
       "0     4.17  ctrl\n",
       "1     5.58  ctrl\n",
       "2     5.18  ctrl\n",
       "3     6.11  ctrl\n",
       "4     4.50  ctrl\n",
       "5     4.61  ctrl\n",
       "6     5.17  ctrl\n",
       "7     4.53  ctrl\n",
       "8     5.33  ctrl\n",
       "9     5.14  ctrl\n",
       "10    4.81  trt1\n",
       "11    4.17  trt1\n",
       "12    4.41  trt1\n",
       "13    3.59  trt1\n",
       "14    5.87  trt1\n",
       "15    3.83  trt1\n",
       "16    6.03  trt1\n",
       "17    4.89  trt1\n",
       "18    4.32  trt1\n",
       "19    4.69  trt1\n",
       "20    6.31  trt2\n",
       "21    5.12  trt2\n",
       "22    5.54  trt2\n",
       "23    5.50  trt2\n",
       "24    5.37  trt2\n",
       "25    5.29  trt2\n",
       "26    4.92  trt2\n",
       "27    6.15  trt2\n",
       "28    5.80  trt2\n",
       "29    5.26  trt2"
      ]
     },
     "execution_count": 57,
     "metadata": {},
     "output_type": "execute_result"
    }
   ],
   "source": [
    "df"
   ]
  },
  {
   "cell_type": "code",
   "execution_count": 59,
   "id": "83fc103b",
   "metadata": {},
   "outputs": [],
   "source": [
    "groups = df.group.unique()"
   ]
  },
  {
   "cell_type": "code",
   "execution_count": 61,
   "id": "361e2991",
   "metadata": {},
   "outputs": [],
   "source": [
    "data = {grp: df[\"weight\"][df.group == grp] for grp in groups}"
   ]
  },
  {
   "cell_type": "code",
   "execution_count": 62,
   "id": "547a784f",
   "metadata": {},
   "outputs": [
    {
     "data": {
      "text/plain": [
       "{'ctrl': 0    4.17\n",
       " 1    5.58\n",
       " 2    5.18\n",
       " 3    6.11\n",
       " 4    4.50\n",
       " 5    4.61\n",
       " 6    5.17\n",
       " 7    4.53\n",
       " 8    5.33\n",
       " 9    5.14\n",
       " Name: weight, dtype: float64,\n",
       " 'trt1': 10    4.81\n",
       " 11    4.17\n",
       " 12    4.41\n",
       " 13    3.59\n",
       " 14    5.87\n",
       " 15    3.83\n",
       " 16    6.03\n",
       " 17    4.89\n",
       " 18    4.32\n",
       " 19    4.69\n",
       " Name: weight, dtype: float64,\n",
       " 'trt2': 20    6.31\n",
       " 21    5.12\n",
       " 22    5.54\n",
       " 23    5.50\n",
       " 24    5.37\n",
       " 25    5.29\n",
       " 26    4.92\n",
       " 27    6.15\n",
       " 28    5.80\n",
       " 29    5.26\n",
       " Name: weight, dtype: float64}"
      ]
     },
     "execution_count": 62,
     "metadata": {},
     "output_type": "execute_result"
    }
   ],
   "source": [
    "data"
   ]
  },
  {
   "cell_type": "code",
   "execution_count": 66,
   "id": "619de51c",
   "metadata": {},
   "outputs": [],
   "source": [
    "fstats, pvalue = stats.f_oneway(data['ctrl'], data['trt1'], data['trt2'])"
   ]
  },
  {
   "cell_type": "code",
   "execution_count": 67,
   "id": "00c6b6f7",
   "metadata": {},
   "outputs": [
    {
     "name": "stdout",
     "output_type": "stream",
     "text": [
      "Reject the null hypothesis\n"
     ]
    }
   ],
   "source": [
    "if pvalue <= 0.05:\n",
    "    print(\"Reject the null hypothesis\")\n",
    "else:\n",
    "    print(\"Fail to reject null hypothesis\")"
   ]
  },
  {
   "cell_type": "code",
   "execution_count": null,
   "id": "f572deb1",
   "metadata": {},
   "outputs": [],
   "source": []
  }
 ],
 "metadata": {
  "kernelspec": {
   "display_name": "Python 3 (ipykernel)",
   "language": "python",
   "name": "python3"
  },
  "language_info": {
   "codemirror_mode": {
    "name": "ipython",
    "version": 3
   },
   "file_extension": ".py",
   "mimetype": "text/x-python",
   "name": "python",
   "nbconvert_exporter": "python",
   "pygments_lexer": "ipython3",
   "version": "3.11.4"
  }
 },
 "nbformat": 4,
 "nbformat_minor": 5
}
