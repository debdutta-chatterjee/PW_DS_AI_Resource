{
 "cells": [
  {
   "cell_type": "code",
   "execution_count": 1,
   "id": "eb3adf3c-9bd3-4d28-9402-40c94052de3b",
   "metadata": {},
   "outputs": [
    {
     "data": {
      "text/plain": [
       "{1, 2, 3, 4, 5}"
      ]
     },
     "execution_count": 1,
     "metadata": {},
     "output_type": "execute_result"
    }
   ],
   "source": [
    "s = {1, 2, 2, 3, 4, 5}\n",
    "s"
   ]
  },
  {
   "cell_type": "code",
   "execution_count": 2,
   "id": "644c1a48-782a-466d-9170-5a557289133a",
   "metadata": {},
   "outputs": [
    {
     "data": {
      "text/plain": [
       "set"
      ]
     },
     "execution_count": 2,
     "metadata": {},
     "output_type": "execute_result"
    }
   ],
   "source": [
    "type(s)"
   ]
  },
  {
   "cell_type": "code",
   "execution_count": 3,
   "id": "54d8fa5c-0d09-4bcd-bc0e-a931d77875a2",
   "metadata": {},
   "outputs": [
    {
     "data": {
      "text/plain": [
       "{1, 2, 3, 4, 5}"
      ]
     },
     "execution_count": 3,
     "metadata": {},
     "output_type": "execute_result"
    }
   ],
   "source": [
    "#set is a collection of unique elements\n",
    "#unordered, unindexed and immutable\n",
    "s"
   ]
  },
  {
   "cell_type": "code",
   "execution_count": 4,
   "id": "e267780d-1a67-44b2-baaf-78dc6194085b",
   "metadata": {},
   "outputs": [
    {
     "ename": "TypeError",
     "evalue": "'set' object is not subscriptable",
     "output_type": "error",
     "traceback": [
      "\u001b[0;31m---------------------------------------------------------------------------\u001b[0m",
      "\u001b[0;31mTypeError\u001b[0m                                 Traceback (most recent call last)",
      "Cell \u001b[0;32mIn[4], line 1\u001b[0m\n\u001b[0;32m----> 1\u001b[0m \u001b[43ms\u001b[49m\u001b[43m[\u001b[49m\u001b[38;5;241;43m0\u001b[39;49m\u001b[43m]\u001b[49m \u001b[38;5;66;03m#throw an error\u001b[39;00m\n",
      "\u001b[0;31mTypeError\u001b[0m: 'set' object is not subscriptable"
     ]
    }
   ],
   "source": [
    "s[0] #throw an error"
   ]
  },
  {
   "cell_type": "code",
   "execution_count": 5,
   "id": "632a02a3-d565-41fa-b347-1a4067337746",
   "metadata": {},
   "outputs": [
    {
     "ename": "TypeError",
     "evalue": "'set' object does not support item assignment",
     "output_type": "error",
     "traceback": [
      "\u001b[0;31m---------------------------------------------------------------------------\u001b[0m",
      "\u001b[0;31mTypeError\u001b[0m                                 Traceback (most recent call last)",
      "Cell \u001b[0;32mIn[5], line 1\u001b[0m\n\u001b[0;32m----> 1\u001b[0m \u001b[43ms\u001b[49m\u001b[43m[\u001b[49m\u001b[38;5;241;43m0\u001b[39;49m\u001b[43m]\u001b[49m \u001b[38;5;241m=\u001b[39m \u001b[38;5;241m2\u001b[39m\n",
      "\u001b[0;31mTypeError\u001b[0m: 'set' object does not support item assignment"
     ]
    }
   ],
   "source": [
    "s[0] = 2 #immutable"
   ]
  },
  {
   "cell_type": "code",
   "execution_count": 6,
   "id": "c0d81303-b588-4e6a-ab18-6128466a0365",
   "metadata": {},
   "outputs": [
    {
     "data": {
      "text/plain": [
       "5"
      ]
     },
     "execution_count": 6,
     "metadata": {},
     "output_type": "execute_result"
    }
   ],
   "source": [
    "max(s)"
   ]
  },
  {
   "cell_type": "code",
   "execution_count": 7,
   "id": "c5131728-cb5c-4fa9-a89e-46631f3e8a22",
   "metadata": {},
   "outputs": [
    {
     "data": {
      "text/plain": [
       "15"
      ]
     },
     "execution_count": 7,
     "metadata": {},
     "output_type": "execute_result"
    }
   ],
   "source": [
    "sum(s)"
   ]
  },
  {
   "cell_type": "code",
   "execution_count": 8,
   "id": "472763fe-5eb7-4818-930c-d5ec2b01c811",
   "metadata": {},
   "outputs": [
    {
     "data": {
      "text/plain": [
       "1"
      ]
     },
     "execution_count": 8,
     "metadata": {},
     "output_type": "execute_result"
    }
   ],
   "source": [
    "min(s)"
   ]
  },
  {
   "cell_type": "code",
   "execution_count": 9,
   "id": "5961c798-dcef-470e-a689-5497706038ab",
   "metadata": {},
   "outputs": [
    {
     "data": {
      "text/plain": [
       "[1, 2, 3, 4, 5]"
      ]
     },
     "execution_count": 9,
     "metadata": {},
     "output_type": "execute_result"
    }
   ],
   "source": [
    "sorted(s)"
   ]
  },
  {
   "cell_type": "code",
   "execution_count": 10,
   "id": "750f3eb7-d2e1-4868-84af-543985b472d6",
   "metadata": {},
   "outputs": [],
   "source": [
    "#set operations>> intersection, union, subset, superset, difference and symmetric difference"
   ]
  },
  {
   "cell_type": "code",
   "execution_count": 11,
   "id": "f8dfd521-ca20-48d8-9c05-e535c7fa65ec",
   "metadata": {},
   "outputs": [],
   "source": [
    "set1 = {34, 67, 78, 100}\n",
    "set2 = {67, 78}"
   ]
  },
  {
   "cell_type": "code",
   "execution_count": 12,
   "id": "d6512362-bd17-440d-b246-1f9f1c8537ce",
   "metadata": {},
   "outputs": [
    {
     "data": {
      "text/plain": [
       "{67, 78}"
      ]
     },
     "execution_count": 12,
     "metadata": {},
     "output_type": "execute_result"
    }
   ],
   "source": [
    "#intersection\n",
    "set1 & set2"
   ]
  },
  {
   "cell_type": "code",
   "execution_count": 13,
   "id": "d48ba6a5-7a65-469d-bbef-051ed77d7388",
   "metadata": {},
   "outputs": [
    {
     "data": {
      "text/plain": [
       "{67, 78}"
      ]
     },
     "execution_count": 13,
     "metadata": {},
     "output_type": "execute_result"
    }
   ],
   "source": [
    "#intersection\n",
    "set1.intersection(set2)"
   ]
  },
  {
   "cell_type": "code",
   "execution_count": 14,
   "id": "d0c57f2a-c8e0-4fb5-b0a3-a9930dee69fe",
   "metadata": {},
   "outputs": [
    {
     "data": {
      "text/plain": [
       "{34, 67, 78, 100}"
      ]
     },
     "execution_count": 14,
     "metadata": {},
     "output_type": "execute_result"
    }
   ],
   "source": [
    "#union\n",
    "set1 | set2"
   ]
  },
  {
   "cell_type": "code",
   "execution_count": 15,
   "id": "63f3f9af-b246-4eff-a9cf-b77d2136ab13",
   "metadata": {},
   "outputs": [
    {
     "data": {
      "text/plain": [
       "{34, 67, 78, 100}"
      ]
     },
     "execution_count": 15,
     "metadata": {},
     "output_type": "execute_result"
    }
   ],
   "source": [
    "#union\n",
    "set1.union(set2)"
   ]
  },
  {
   "cell_type": "code",
   "execution_count": 16,
   "id": "c4c180cc-a7f1-486d-b193-cda50fff6fd0",
   "metadata": {},
   "outputs": [
    {
     "data": {
      "text/plain": [
       "{34, 100}"
      ]
     },
     "execution_count": 16,
     "metadata": {},
     "output_type": "execute_result"
    }
   ],
   "source": [
    "#difference\n",
    "set1-set2"
   ]
  },
  {
   "cell_type": "code",
   "execution_count": 17,
   "id": "ceed7e36-cbcf-477a-91e9-33fd3a82b0e0",
   "metadata": {},
   "outputs": [
    {
     "data": {
      "text/plain": [
       "{34, 100}"
      ]
     },
     "execution_count": 17,
     "metadata": {},
     "output_type": "execute_result"
    }
   ],
   "source": [
    "#difference\n",
    "set1.difference(set2)"
   ]
  },
  {
   "cell_type": "code",
   "execution_count": 18,
   "id": "1a6d1669-381b-40be-acbe-1ce42790aa98",
   "metadata": {},
   "outputs": [
    {
     "data": {
      "text/plain": [
       "True"
      ]
     },
     "execution_count": 18,
     "metadata": {},
     "output_type": "execute_result"
    }
   ],
   "source": [
    "#superset\n",
    "set1.issuperset(set2)"
   ]
  },
  {
   "cell_type": "code",
   "execution_count": 20,
   "id": "7b167e47-6c75-4799-9f3b-7c5494e76f50",
   "metadata": {},
   "outputs": [
    {
     "data": {
      "text/plain": [
       "False"
      ]
     },
     "execution_count": 20,
     "metadata": {},
     "output_type": "execute_result"
    }
   ],
   "source": [
    "#subset\n",
    "set1.issubset(set2)"
   ]
  },
  {
   "cell_type": "code",
   "execution_count": 21,
   "id": "8c62e94d-b79d-46ff-8ec0-9ce45995fbc2",
   "metadata": {},
   "outputs": [
    {
     "data": {
      "text/plain": [
       "True"
      ]
     },
     "execution_count": 21,
     "metadata": {},
     "output_type": "execute_result"
    }
   ],
   "source": [
    "#subset\n",
    "set2.issubset(set2)"
   ]
  },
  {
   "cell_type": "code",
   "execution_count": 23,
   "id": "23dfec78-1666-4e1e-8c46-e37ff8298448",
   "metadata": {},
   "outputs": [
    {
     "data": {
      "text/plain": [
       "False"
      ]
     },
     "execution_count": 23,
     "metadata": {},
     "output_type": "execute_result"
    }
   ],
   "source": [
    "set2.issuperset(set1)"
   ]
  },
  {
   "cell_type": "code",
   "execution_count": null,
   "id": "a1dd2b80-3f9f-4582-8e9e-b520f87f49ba",
   "metadata": {},
   "outputs": [],
   "source": [
    "#symmetric difference\n"
   ]
  },
  {
   "cell_type": "code",
   "execution_count": 24,
   "id": "57f168e9-73ba-4170-9ac2-0d4520406815",
   "metadata": {},
   "outputs": [
    {
     "data": {
      "text/plain": [
       "{34, 100, 102}"
      ]
     },
     "execution_count": 24,
     "metadata": {},
     "output_type": "execute_result"
    }
   ],
   "source": [
    "set1 = {34, 67, 78, 100}\n",
    "set2 = {67, 78, 102}\n",
    "\n",
    "set1 ^ set2"
   ]
  },
  {
   "cell_type": "code",
   "execution_count": 25,
   "id": "d9c134b6-9f24-4796-b2b1-e086f849d3f1",
   "metadata": {},
   "outputs": [
    {
     "data": {
      "text/plain": [
       "{34, 100, 102}"
      ]
     },
     "execution_count": 25,
     "metadata": {},
     "output_type": "execute_result"
    }
   ],
   "source": [
    "set1.symmetric_difference(set2)"
   ]
  },
  {
   "cell_type": "code",
   "execution_count": null,
   "id": "6f89c68e-fcc2-491d-9439-343759b85803",
   "metadata": {},
   "outputs": [],
   "source": []
  }
 ],
 "metadata": {
  "kernelspec": {
   "display_name": "Python 3 (ipykernel)",
   "language": "python",
   "name": "python3"
  },
  "language_info": {
   "codemirror_mode": {
    "name": "ipython",
    "version": 3
   },
   "file_extension": ".py",
   "mimetype": "text/x-python",
   "name": "python",
   "nbconvert_exporter": "python",
   "pygments_lexer": "ipython3",
   "version": "3.10.8"
  }
 },
 "nbformat": 4,
 "nbformat_minor": 5
}
